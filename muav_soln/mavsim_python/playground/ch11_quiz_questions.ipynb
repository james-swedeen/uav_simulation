{
 "cells": [
  {
   "cell_type": "code",
   "execution_count": 2,
   "metadata": {},
   "outputs": [
    {
     "name": "stdout",
     "output_type": "stream",
     "text": [
      "a dot b:  [[10]]\n",
      "angle a_b:  [[1.18319964]]\n"
     ]
    }
   ],
   "source": [
    "import numpy as np\n",
    "\n",
    "a = np.array([[1],[2],[3]])\n",
    "b = np.array([[3],[-4],[5]])\n",
    "\n",
    "# Dot product\n",
    "dot = a.T@b\n",
    "print(\"a dot b: \", dot)\n",
    "\n",
    "# Angle\n",
    "angle = np.arccos(dot/(np.linalg.norm(a)*np.linalg.norm(b)))\n",
    "print(\"angle a_b: \", angle)"
   ]
  },
  {
   "cell_type": "code",
   "execution_count": 4,
   "metadata": {},
   "outputs": [
    {
     "name": "stdout",
     "output_type": "stream",
     "text": [
      "q_i-1:  [[0.70710678]\n",
      " [0.70710678]\n",
      " [0.        ]]\n",
      "q_i:  [[-0.70710678]\n",
      " [ 0.70710678]\n",
      " [ 0.        ]]\n",
      "res:  [[ 0.]\n",
      " [-0.]\n",
      " [ 1.]]\n"
     ]
    }
   ],
   "source": [
    "import numpy as np\n",
    "\n",
    "qim1 = np.array([[1],[1],[0]])\n",
    "qim1 = qim1 / np.linalg.norm(qim1)\n",
    "print(\"q_i-1: \", qim1)\n",
    "\n",
    "qi = np.array([[-1], [1], [0]])\n",
    "qi = qi / np.linalg.norm(qi)\n",
    "print(\"q_i: \", qi)\n",
    "\n",
    "res = np.cross(qim1, qi, axis=0)\n",
    "print(\"res: \", res)"
   ]
  }
 ],
 "metadata": {
  "kernelspec": {
   "display_name": "mav_venv",
   "language": "python",
   "name": "python3"
  },
  "language_info": {
   "codemirror_mode": {
    "name": "ipython",
    "version": 3
   },
   "file_extension": ".py",
   "mimetype": "text/x-python",
   "name": "python",
   "nbconvert_exporter": "python",
   "pygments_lexer": "ipython3",
   "version": "3.10.1"
  },
  "orig_nbformat": 4
 },
 "nbformat": 4,
 "nbformat_minor": 2
}
