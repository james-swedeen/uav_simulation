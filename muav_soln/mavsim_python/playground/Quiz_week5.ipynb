{
 "cells": [
  {
   "cell_type": "code",
   "execution_count": 2,
   "metadata": {},
   "outputs": [
    {
     "name": "stdout",
     "output_type": "stream",
     "text": [
      "Passive y axis rotation\n"
     ]
    },
    {
     "data": {
      "text/plain": [
       "array([[ 0.5      ,  0.       ,  0.8660254],\n",
       "       [ 0.       ,  1.       ,  0.       ],\n",
       "       [-0.8660254,  0.       ,  0.5      ]])"
      ]
     },
     "metadata": {},
     "output_type": "display_data"
    }
   ],
   "source": [
    "import numpy as np # Imports the numpy library and creates the alias np\n",
    "from IPython.display import display # Used to display variables nicely in Jupyter\n",
    "from mav_sim.chap2.transforms import rot_y\n",
    "\n",
    "print(\"Passive y axis rotation\")\n",
    "Ry = np.transpose(rot_y(np.pi/3))\n",
    "display(Ry)"
   ]
  },
  {
   "cell_type": "code",
   "execution_count": 4,
   "metadata": {},
   "outputs": [
    {
     "name": "stdout",
     "output_type": "stream",
     "text": [
      "R = R_x(pi/3) @ R_z(pi/4)\n"
     ]
    },
    {
     "data": {
      "text/plain": [
       "array([[ 0.70710678,  0.70710678,  0.        ],\n",
       "       [-0.35355339,  0.35355339,  0.8660254 ],\n",
       "       [ 0.61237244, -0.61237244,  0.5       ]])"
      ]
     },
     "metadata": {},
     "output_type": "display_data"
    }
   ],
   "source": [
    "import numpy as np # Imports the numpy library and creates the alias np\n",
    "from IPython.display import display # Used to display variables nicely in Jupyter\n",
    "from mav_sim.chap2.transforms import rot_x, rot_z\n",
    "\n",
    "print(\"R = R_x(pi/3) @ R_z(pi/4)\")\n",
    "R = rot_x(np.pi/3) @ rot_z(np.pi/4)\n",
    "display(R)"
   ]
  },
  {
   "cell_type": "code",
   "execution_count": 8,
   "metadata": {},
   "outputs": [
    {
     "name": "stdout",
     "output_type": "stream",
     "text": [
      "R_d^b = R_a_to_b*R_a_to_c^T*R_d_to_c\n"
     ]
    },
    {
     "data": {
      "text/plain": [
       "array([[ 0.5       , -0.61237244, -0.61237244],\n",
       "       [-0.4330127 , -0.78914913,  0.43559574],\n",
       "       [-0.75      ,  0.04736717, -0.65973961]])"
      ]
     },
     "metadata": {},
     "output_type": "display_data"
    }
   ],
   "source": [
    "import numpy as np # Imports the numpy library and creates the alias np\n",
    "from IPython.display import display # Used to display variables nicely in Jupyter\n",
    "from mav_sim.chap2.transforms import rot_x, rot_y\n",
    "\n",
    "R_a_to_b = rot_x(np.pi/6)\n",
    "R_a_to_c = rot_y(np.pi/3)\n",
    "R_d_to_c = rot_x(3*np.pi/4)\n",
    "\n",
    "print(\"R_d^b = R_a_to_b*R_a_to_c^T*R_d_to_c\")\n",
    "R = R_a_to_b @ np.transpose(R_a_to_c) @ R_d_to_c\n",
    "display(R)"
   ]
  },
  {
   "cell_type": "code",
   "execution_count": 2,
   "metadata": {},
   "outputs": [
    {
     "name": "stdout",
     "output_type": "stream",
     "text": [
      "d/dt psi =  22.660254037844386\n",
      "d/dt r =  -52.35197118263826\n"
     ]
    }
   ],
   "source": [
    "import numpy as np # Imports the numpy library and creates the alias np\n",
    "from IPython.display import display # Used to display variables nicely in Jupyter\n",
    "from mav_sim.chap3.mav_dynamics_euler import derivatives_euler, DynamicStateEuler, IND_EULER\n",
    "from mav_sim.chap3.mav_dynamics import ForceMoments\n",
    "\n",
    "# Define forces and moments\n",
    "fm = ForceMoments()\n",
    "fm.fx = 1\n",
    "fm.fy = 2\n",
    "fm.fz = 3\n",
    "fm.l = 4\n",
    "fm.m = 5\n",
    "fm.n = 6\n",
    "\n",
    "# Define the state\n",
    "st = DynamicStateEuler(np.zeros((12,1)))\n",
    "st.north = 7\n",
    "st.east = 8\n",
    "st.down = 9\n",
    "st.u = 10\n",
    "st.v = 11\n",
    "st.w = 12\n",
    "st.phi = np.pi/3\n",
    "st.theta = np.pi/6\n",
    "st.psi = np.pi/9\n",
    "st.p = 13\n",
    "st.q = 14\n",
    "st.r = 15\n",
    "\n",
    "# Define the time derivative\n",
    "x_dot = derivatives_euler(state = st.convert_to_numpy(), forces_moments= fm.to_array())\n",
    "# print(\"Time derivative\")\n",
    "# display(x_dot)\n",
    "print(\"d/dt psi = \", x_dot.item(IND_EULER.PSI))\n",
    "print(\"d/dt r = \", x_dot.item(IND_EULER.R))\n",
    "\n",
    "\n"
   ]
  }
 ],
 "metadata": {
  "kernelspec": {
   "display_name": "mav_venv",
   "language": "python",
   "name": "python3"
  },
  "language_info": {
   "codemirror_mode": {
    "name": "ipython",
    "version": 3
   },
   "file_extension": ".py",
   "mimetype": "text/x-python",
   "name": "python",
   "nbconvert_exporter": "python",
   "pygments_lexer": "ipython3",
   "version": "3.10.1"
  },
  "orig_nbformat": 4,
  "vscode": {
   "interpreter": {
    "hash": "fce2dbb18319ebf9038468f3349af8b308ee8dc85e2187295367618fa8e1a6cd"
   }
  }
 },
 "nbformat": 4,
 "nbformat_minor": 2
}
